{
 "cells": [
  {
   "cell_type": "markdown",
   "metadata": {
    "id": "FjZT3QZcKOuf"
   },
   "source": [
    "# Tutorial de Ciencia de Datos (UdeSA) 2025\n",
    "## Tutorial 2 - Parte 2\n",
    "\n",
    "El objetivo es graficar con matplotlib."
   ]
  },
  {
   "cell_type": "markdown",
   "metadata": {},
   "source": [
    "Matplotlib es la librería base de graficación, sobre la cual se montan otras librerías. Dentro de Matplotlib, usamos la dependencia \"pyplot\" que se instala con la librería. Por convención importamos así:"
   ]
  },
  {
   "cell_type": "code",
   "execution_count": 25,
   "metadata": {},
   "outputs": [],
   "source": [
    "#!pip install matplotlib\n",
    "import matplotlib.pyplot as plt # importamos la librería gráfica. plt es el nombre por convención que se le asigna"
   ]
  },
  {
   "cell_type": "markdown",
   "metadata": {},
   "source": [
    "Matplotlib genera los gráficos sobre dos objetos interrelacionados:\n",
    "- **Figure**: la hoja en blanco, el recuadro que contiene hacia adentro el/los gráfico/s. En términos prácticos esto ocurre detrás de escenas, pero es lo que permite dibujar el gráfico.\n",
    "- **Axes**: el gráfico en sí, los ejes y la informacíon graficada. La representación de la información sobre ejes."
   ]
  },
  {
   "cell_type": "markdown",
   "metadata": {},
   "source": [
    "Las partes de un gráfico\n",
    "<img src=\"https://matplotlib.org/stable/_images/anatomy.png\"\n",
    "     width=500/>"
   ]
  },
  {
   "cell_type": "markdown",
   "metadata": {},
   "source": [
    "Hay esencialmente dos maneras de graficar con Matplotlib:\n",
    "- **Estilo pyplot**: simple y rápida para figuras que no son muy avanzadas. Quizás más fácil para empezar.\n",
    "- **Estilo orientado-objetos**: un poco más complejo pero necesario para figuras que requieren mucha personalización.\n",
    "\n",
    "En cuanto al resultado estético, con ambos se puede lograr la misma calidad. Para dar los primeros pasos es indistinto cual se use. Sin embargo, el estilo orientado a objetos es necesario para figuras más complejas donde hay varios gráficos (subplots) y es necesario definir parámetros distintos para cada par de ejes (2D)"
   ]
  },
  {
   "cell_type": "markdown",
   "metadata": {
    "id": "_wHJy23yKOuh"
   },
   "source": [
    "### Graficar con matplotlib"
   ]
  },
  {
   "cell_type": "code",
   "execution_count": 26,
   "metadata": {
    "executionInfo": {
     "elapsed": 1094,
     "status": "ok",
     "timestamp": 1661282643386,
     "user": {
      "displayName": "Belén Michel Torino",
      "userId": "16232771333703850174"
     },
     "user_tz": 240
    },
    "id": "nrMwI5vWKOuh"
   },
   "outputs": [],
   "source": [
    "import matplotlib.pyplot as plt\n",
    "import pandas as pd"
   ]
  },
  {
   "cell_type": "code",
   "execution_count": 27,
   "metadata": {},
   "outputs": [],
   "source": [
    "import os\n",
    "os.chdir(\"C:/Users/tomas/Documents/UdeSA/Ciencia de Datos/Tutoriales-Ciencia-de-Datos\\Tutorial_2\")"
   ]
  },
  {
   "cell_type": "code",
   "execution_count": 28,
   "metadata": {
    "colab": {
     "base_uri": "https://localhost:8080/",
     "height": 353
    },
    "executionInfo": {
     "elapsed": 289,
     "status": "error",
     "timestamp": 1661282644488,
     "user": {
      "displayName": "Belén Michel Torino",
      "userId": "16232771333703850174"
     },
     "user_tz": 240
    },
    "id": "JCYTjWGHKOui",
    "outputId": "4b13c0cd-44ad-47f2-d28e-9a79fc39c177"
   },
   "outputs": [],
   "source": [
    "# Abrimos el archivo de potencia energética instalada en el país\n",
    "df = pd.read_excel(\"potencia_instalada.xlsx\")"
   ]
  },
  {
   "cell_type": "code",
   "execution_count": 30,
   "metadata": {},
   "outputs": [
    {
     "data": {
      "text/html": [
       "<div>\n",
       "<style scoped>\n",
       "    .dataframe tbody tr th:only-of-type {\n",
       "        vertical-align: middle;\n",
       "    }\n",
       "\n",
       "    .dataframe tbody tr th {\n",
       "        vertical-align: top;\n",
       "    }\n",
       "\n",
       "    .dataframe thead th {\n",
       "        text-align: right;\n",
       "    }\n",
       "</style>\n",
       "<table border=\"1\" class=\"dataframe\">\n",
       "  <thead>\n",
       "    <tr style=\"text-align: right;\">\n",
       "      <th></th>\n",
       "      <th>id</th>\n",
       "      <th>periodo</th>\n",
       "      <th>central</th>\n",
       "      <th>agente</th>\n",
       "      <th>agente_descripcion</th>\n",
       "      <th>region</th>\n",
       "      <th>categoria_region</th>\n",
       "      <th>tipo_maquina</th>\n",
       "      <th>fuente_generacion</th>\n",
       "      <th>tecnologia</th>\n",
       "      <th>potencia_instalada_mw</th>\n",
       "      <th>fecha_proceso</th>\n",
       "      <th>lote_id_log</th>\n",
       "      <th>mes</th>\n",
       "      <th>indice_tiempo</th>\n",
       "    </tr>\n",
       "  </thead>\n",
       "  <tbody>\n",
       "    <tr>\n",
       "      <th>4212</th>\n",
       "      <td>4214</td>\n",
       "      <td>2016-12-01</td>\n",
       "      <td>PMAD</td>\n",
       "      <td>CTPATAGG</td>\n",
       "      <td>C.T. PATAGONICAS SA</td>\n",
       "      <td>PATAGONICA</td>\n",
       "      <td>Patagonia</td>\n",
       "      <td>TG</td>\n",
       "      <td>Térmica</td>\n",
       "      <td>Turbina a gas</td>\n",
       "      <td>42.00</td>\n",
       "      <td>00:09:10.800000</td>\n",
       "      <td>18</td>\n",
       "      <td>12</td>\n",
       "      <td>2016-12</td>\n",
       "    </tr>\n",
       "    <tr>\n",
       "      <th>1821</th>\n",
       "      <td>1823</td>\n",
       "      <td>2016-04-01</td>\n",
       "      <td>GBMO</td>\n",
       "      <td>UGMGB12G</td>\n",
       "      <td>UGEM 21 - GBA - ENARSA</td>\n",
       "      <td>GENERAC MOVIL</td>\n",
       "      <td>Unidades Móviles</td>\n",
       "      <td>GM</td>\n",
       "      <td>Térmica</td>\n",
       "      <td>Motor Diesel</td>\n",
       "      <td>18.92</td>\n",
       "      <td>00:03:29</td>\n",
       "      <td>10</td>\n",
       "      <td>4</td>\n",
       "      <td>2016-04</td>\n",
       "    </tr>\n",
       "    <tr>\n",
       "      <th>2560</th>\n",
       "      <td>2562</td>\n",
       "      <td>2016-06-01</td>\n",
       "      <td>BARD</td>\n",
       "      <td>CTBQUERG</td>\n",
       "      <td>CT BARRANQUERAS Chaco- ENARSA</td>\n",
       "      <td>NORESTE</td>\n",
       "      <td>Nea</td>\n",
       "      <td>DI</td>\n",
       "      <td>Térmica</td>\n",
       "      <td>Motor Diesel</td>\n",
       "      <td>21.70</td>\n",
       "      <td>00:09:59.300000</td>\n",
       "      <td>12</td>\n",
       "      <td>6</td>\n",
       "      <td>2016-06</td>\n",
       "    </tr>\n",
       "    <tr>\n",
       "      <th>9064</th>\n",
       "      <td>9066</td>\n",
       "      <td>2018-04-01</td>\n",
       "      <td>SARC</td>\n",
       "      <td>HTSANJUG</td>\n",
       "      <td>HIDROTERMICA SAN JUAN</td>\n",
       "      <td>CUYO</td>\n",
       "      <td>Cuyo</td>\n",
       "      <td>TG</td>\n",
       "      <td>Térmica</td>\n",
       "      <td>Turbina a gas</td>\n",
       "      <td>30.00</td>\n",
       "      <td>00:49:40.800000</td>\n",
       "      <td>35</td>\n",
       "      <td>4</td>\n",
       "      <td>2018-04</td>\n",
       "    </tr>\n",
       "    <tr>\n",
       "      <th>534</th>\n",
       "      <td>536</td>\n",
       "      <td>2015-11-01</td>\n",
       "      <td>TIMB</td>\n",
       "      <td>TSMARTIG</td>\n",
       "      <td>TERMOELE. JOSE SAN MARTIN S.A</td>\n",
       "      <td>LITORAL</td>\n",
       "      <td>Gba - Litoral - Buenos Aires</td>\n",
       "      <td>TG</td>\n",
       "      <td>Térmica</td>\n",
       "      <td>Ciclos Combinados</td>\n",
       "      <td>584.84</td>\n",
       "      <td>00:57:00.900000</td>\n",
       "      <td>5</td>\n",
       "      <td>11</td>\n",
       "      <td>2015-11</td>\n",
       "    </tr>\n",
       "    <tr>\n",
       "      <th>5004</th>\n",
       "      <td>5006</td>\n",
       "      <td>2017-04-01</td>\n",
       "      <td>GEBA</td>\n",
       "      <td>GENELPLG</td>\n",
       "      <td>GENELBA PLUS- PETROBRAS</td>\n",
       "      <td>GRAN BS.AS.</td>\n",
       "      <td>Gba - Litoral - Buenos Aires</td>\n",
       "      <td>TG</td>\n",
       "      <td>Térmica</td>\n",
       "      <td>Turbina a gas</td>\n",
       "      <td>164.55</td>\n",
       "      <td>00:19:04.900000</td>\n",
       "      <td>22</td>\n",
       "      <td>4</td>\n",
       "      <td>2017-04</td>\n",
       "    </tr>\n",
       "    <tr>\n",
       "      <th>3546</th>\n",
       "      <td>3548</td>\n",
       "      <td>2016-10-01</td>\n",
       "      <td>GUEM</td>\n",
       "      <td>CTGUEPLG</td>\n",
       "      <td>C.TERMICA GUEMES S.A.PLUS</td>\n",
       "      <td>NOROESTE</td>\n",
       "      <td>Noa</td>\n",
       "      <td>TG</td>\n",
       "      <td>Térmica</td>\n",
       "      <td>Turbina a gas</td>\n",
       "      <td>100.00</td>\n",
       "      <td>00:55:10.500000</td>\n",
       "      <td>16</td>\n",
       "      <td>10</td>\n",
       "      <td>2016-10</td>\n",
       "    </tr>\n",
       "    <tr>\n",
       "      <th>10031</th>\n",
       "      <td>10033</td>\n",
       "      <td>2018-08-01</td>\n",
       "      <td>SARC</td>\n",
       "      <td>HTSANJUG</td>\n",
       "      <td>HIDROTERMICA SAN JUAN</td>\n",
       "      <td>CUYO</td>\n",
       "      <td>Cuyo</td>\n",
       "      <td>TG</td>\n",
       "      <td>Térmica</td>\n",
       "      <td>Turbina a gas</td>\n",
       "      <td>30.00</td>\n",
       "      <td>00:18:28.100000</td>\n",
       "      <td>38</td>\n",
       "      <td>8</td>\n",
       "      <td>2018-08</td>\n",
       "    </tr>\n",
       "    <tr>\n",
       "      <th>436</th>\n",
       "      <td>438</td>\n",
       "      <td>2015-11-01</td>\n",
       "      <td>LRIS</td>\n",
       "      <td>CTLARSSG</td>\n",
       "      <td>CT LA RIOJA SUR- SECCO</td>\n",
       "      <td>NOROESTE</td>\n",
       "      <td>Noa</td>\n",
       "      <td>DI</td>\n",
       "      <td>Térmica</td>\n",
       "      <td>Motor Diesel</td>\n",
       "      <td>10.00</td>\n",
       "      <td>00:57:00.900000</td>\n",
       "      <td>5</td>\n",
       "      <td>11</td>\n",
       "      <td>2015-11</td>\n",
       "    </tr>\n",
       "    <tr>\n",
       "      <th>8250</th>\n",
       "      <td>8252</td>\n",
       "      <td>2018-02-01</td>\n",
       "      <td>BARI</td>\n",
       "      <td>CTBARISG</td>\n",
       "      <td>CT BARILOCHE -SOENERGY</td>\n",
       "      <td>COMAHUE</td>\n",
       "      <td>Comahue</td>\n",
       "      <td>DI</td>\n",
       "      <td>Térmica</td>\n",
       "      <td>Motor Diesel</td>\n",
       "      <td>20.00</td>\n",
       "      <td>00:39:21.800000</td>\n",
       "      <td>33</td>\n",
       "      <td>2</td>\n",
       "      <td>2018-02</td>\n",
       "    </tr>\n",
       "  </tbody>\n",
       "</table>\n",
       "</div>"
      ],
      "text/plain": [
       "          id    periodo central    agente             agente_descripcion  \\\n",
       "4212    4214 2016-12-01    PMAD  CTPATAGG            C.T. PATAGONICAS SA   \n",
       "1821    1823 2016-04-01    GBMO  UGMGB12G         UGEM 21 - GBA - ENARSA   \n",
       "2560    2562 2016-06-01    BARD  CTBQUERG  CT BARRANQUERAS Chaco- ENARSA   \n",
       "9064    9066 2018-04-01    SARC  HTSANJUG          HIDROTERMICA SAN JUAN   \n",
       "534      536 2015-11-01    TIMB  TSMARTIG  TERMOELE. JOSE SAN MARTIN S.A   \n",
       "5004    5006 2017-04-01    GEBA  GENELPLG        GENELBA PLUS- PETROBRAS   \n",
       "3546    3548 2016-10-01    GUEM  CTGUEPLG      C.TERMICA GUEMES S.A.PLUS   \n",
       "10031  10033 2018-08-01    SARC  HTSANJUG          HIDROTERMICA SAN JUAN   \n",
       "436      438 2015-11-01    LRIS  CTLARSSG         CT LA RIOJA SUR- SECCO   \n",
       "8250    8252 2018-02-01    BARI  CTBARISG         CT BARILOCHE -SOENERGY   \n",
       "\n",
       "              region              categoria_region tipo_maquina  \\\n",
       "4212      PATAGONICA                     Patagonia           TG   \n",
       "1821   GENERAC MOVIL              Unidades Móviles           GM   \n",
       "2560         NORESTE                           Nea           DI   \n",
       "9064            CUYO                          Cuyo           TG   \n",
       "534          LITORAL  Gba - Litoral - Buenos Aires           TG   \n",
       "5004     GRAN BS.AS.  Gba - Litoral - Buenos Aires           TG   \n",
       "3546        NOROESTE                           Noa           TG   \n",
       "10031           CUYO                          Cuyo           TG   \n",
       "436         NOROESTE                           Noa           DI   \n",
       "8250         COMAHUE                       Comahue           DI   \n",
       "\n",
       "      fuente_generacion         tecnologia  potencia_instalada_mw  \\\n",
       "4212            Térmica      Turbina a gas                  42.00   \n",
       "1821            Térmica       Motor Diesel                  18.92   \n",
       "2560            Térmica       Motor Diesel                  21.70   \n",
       "9064            Térmica      Turbina a gas                  30.00   \n",
       "534             Térmica  Ciclos Combinados                 584.84   \n",
       "5004            Térmica      Turbina a gas                 164.55   \n",
       "3546            Térmica      Turbina a gas                 100.00   \n",
       "10031           Térmica      Turbina a gas                  30.00   \n",
       "436             Térmica       Motor Diesel                  10.00   \n",
       "8250            Térmica       Motor Diesel                  20.00   \n",
       "\n",
       "         fecha_proceso  lote_id_log  mes indice_tiempo  \n",
       "4212   00:09:10.800000           18   12       2016-12  \n",
       "1821          00:03:29           10    4       2016-04  \n",
       "2560   00:09:59.300000           12    6       2016-06  \n",
       "9064   00:49:40.800000           35    4       2018-04  \n",
       "534    00:57:00.900000            5   11       2015-11  \n",
       "5004   00:19:04.900000           22    4       2017-04  \n",
       "3546   00:55:10.500000           16   10       2016-10  \n",
       "10031  00:18:28.100000           38    8       2018-08  \n",
       "436    00:57:00.900000            5   11       2015-11  \n",
       "8250   00:39:21.800000           33    2       2018-02  "
      ]
     },
     "execution_count": 30,
     "metadata": {},
     "output_type": "execute_result"
    }
   ],
   "source": [
    " # exploren aqui la base. Hint: tail, head, sample, info...\n",
    "df.head(3)\n",
    "df.sample(10)"
   ]
  },
  {
   "cell_type": "code",
   "execution_count": 31,
   "metadata": {
    "id": "XdiLXPy2KOui",
    "outputId": "b96cd9f3-7cb1-4f18-bc49-8a3ec1d1fb5c"
   },
   "outputs": [
    {
     "data": {
      "text/html": [
       "<div>\n",
       "<style scoped>\n",
       "    .dataframe tbody tr th:only-of-type {\n",
       "        vertical-align: middle;\n",
       "    }\n",
       "\n",
       "    .dataframe tbody tr th {\n",
       "        vertical-align: top;\n",
       "    }\n",
       "\n",
       "    .dataframe thead th {\n",
       "        text-align: right;\n",
       "    }\n",
       "</style>\n",
       "<table border=\"1\" class=\"dataframe\">\n",
       "  <thead>\n",
       "    <tr style=\"text-align: right;\">\n",
       "      <th></th>\n",
       "      <th>periodo</th>\n",
       "      <th>fuente_generacion</th>\n",
       "      <th>potencia_instalada_mw</th>\n",
       "    </tr>\n",
       "  </thead>\n",
       "  <tbody>\n",
       "    <tr>\n",
       "      <th>40</th>\n",
       "      <td>2016-08-01</td>\n",
       "      <td>Hidráulica</td>\n",
       "      <td>10619.70</td>\n",
       "    </tr>\n",
       "    <tr>\n",
       "      <th>0</th>\n",
       "      <td>2015-10-01</td>\n",
       "      <td>Hidráulica</td>\n",
       "      <td>11107.29</td>\n",
       "    </tr>\n",
       "    <tr>\n",
       "      <th>105</th>\n",
       "      <td>2017-12-01</td>\n",
       "      <td>Nuclear</td>\n",
       "      <td>1755.00</td>\n",
       "    </tr>\n",
       "    <tr>\n",
       "      <th>115</th>\n",
       "      <td>2018-02-01</td>\n",
       "      <td>Térmica</td>\n",
       "      <td>23581.36</td>\n",
       "    </tr>\n",
       "    <tr>\n",
       "      <th>74</th>\n",
       "      <td>2017-04-01</td>\n",
       "      <td>Renovable</td>\n",
       "      <td>709.39</td>\n",
       "    </tr>\n",
       "  </tbody>\n",
       "</table>\n",
       "</div>"
      ],
      "text/plain": [
       "       periodo fuente_generacion  potencia_instalada_mw\n",
       "40  2016-08-01        Hidráulica               10619.70\n",
       "0   2015-10-01        Hidráulica               11107.29\n",
       "105 2017-12-01           Nuclear                1755.00\n",
       "115 2018-02-01           Térmica               23581.36\n",
       "74  2017-04-01         Renovable                 709.39"
      ]
     },
     "execution_count": 31,
     "metadata": {},
     "output_type": "execute_result"
    }
   ],
   "source": [
    "# Agregamos (collapse) a nivel de tipo de fuente\n",
    "df_fuente = df.groupby(by=[\"periodo\",\"fuente_generacion\"]).agg({\"potencia_instalada_mw\":\"sum\"})\n",
    "df_fuente.reset_index(inplace=True)\n",
    "df_fuente.sample(5)"
   ]
  },
  {
   "cell_type": "code",
   "execution_count": 32,
   "metadata": {
    "id": "NJ9utAqzKOuj",
    "outputId": "8bd123af-e0ba-4bc9-be38-52f1a3cb02ee"
   },
   "outputs": [
    {
     "data": {
      "text/plain": [
       "(152, 3)"
      ]
     },
     "execution_count": 32,
     "metadata": {},
     "output_type": "execute_result"
    }
   ],
   "source": [
    "df_fuente.shape"
   ]
  },
  {
   "cell_type": "markdown",
   "metadata": {},
   "source": [
    "Vamos a graficar dos líneas, así que definimos vector X e Y para cada una. Vamos a graficar la potencia instalada de generación por fuente Renovable y fuente Térmica:"
   ]
  },
  {
   "cell_type": "code",
   "execution_count": 8,
   "metadata": {
    "id": "jhirJJclKOuk"
   },
   "outputs": [],
   "source": [
    "# Definimos  vectores  de datos  para  serie 1 (renovable)\n",
    "y1 = df_fuente[df_fuente[\"fuente_generacion\"]==\"Renovable\"][\"potencia_instalada_mw\"]\n",
    "x1 = df_fuente[df_fuente[\"fuente_generacion\"]==\"Renovable\"][\"periodo\"]\n",
    "# Definimos  vectores  de datos  para  serie 2 (térmica)\n",
    "y2 = df_fuente[df_fuente[\"fuente_generacion\"]==\"Térmica\"][\"potencia_instalada_mw\"]\n",
    "x2 = df_fuente[df_fuente[\"fuente_generacion\"]==\"Térmica\"][\"periodo\"]\n",
    "\n",
    "# Nota: df[condicion][columna] selecciona la \"columna\" de la base que resulta de aplicar el filtro df[condicion]."
   ]
  },
  {
   "cell_type": "code",
   "execution_count": 37,
   "metadata": {
    "id": "Jriw9yo0KOul",
    "outputId": "439d3efc-8ea0-4cc0-a6d4-a815a549946c"
   },
   "outputs": [
    {
     "data": {
      "image/png": "[encoded data removed]",
      "text/plain": [
       "<Figure size 640x480 with 1 Axes>"
      ]
     },
     "metadata": {},
     "output_type": "display_data"
    }
   ],
   "source": [
    "# Creamos el gráfico al estilo pyplot\n",
    "\n",
    "plt.plot(x1, y1, label=\"Renovable\") # serie 1\n",
    "plt.plot(x2, y2, label=\"Térmica\") # serie 2\n",
    "# Estas  dos  líneas  estaran  sobre  el mismo  gráfico\n",
    "\n",
    "# Modifico  labels\n",
    "plt.xlabel(\"Período\")\n",
    "plt.ylabel(\"Potencia  Instalada (MW)\")\n",
    "plt.title(\"Producción Energética Argentina según Fuente\")\n",
    "\n",
    "# Agrego  leyenda\n",
    "plt.legend()\n",
    "plt.show() #esto es necesario para visualizar"
   ]
  },
  {
   "cell_type": "code",
   "execution_count": 41,
   "metadata": {
    "id": "bFHB0axvKOum",
    "outputId": "5cd4d1c0-5cbe-408c-8060-0db99a254b5d"
   },
   "outputs": [
    {
     "data": {
      "image/png": "[encoded data removed]",
      "text/plain": [
       "<Figure size 1400x500 with 2 Axes>"
      ]
     },
     "metadata": {},
     "output_type": "display_data"
    }
   ],
   "source": [
    "# Graficar múltiples gráficos estilo pyplot\n",
    "\n",
    "# ejemplo 2 ax en un fig\n",
    "plt.figure(figsize=(14, 5))\n",
    "\n",
    "# Definimos primer gráfico\n",
    "plt.subplot(121) # subplot(nrows, ncols, index, **kwargs) donde nrows=1, ncols=2, index=1\n",
    "plt.plot(x1, y1)\n",
    "plt.title(\"A. Fuente Renovable\")\n",
    "\n",
    "# Definimos segundo gráfico\n",
    "plt.subplot(122)\n",
    "plt.plot(x2, y2)\n",
    "plt.title(\"B. Fuente Térmica\")\n",
    "\n",
    "# Definimos título general de la figura\n",
    "plt.suptitle(\"Ejemplo dos gráficos en una figura\")\n",
    "plt.show()"
   ]
  },
  {
   "cell_type": "markdown",
   "metadata": {},
   "source": [
    "### Gráficos con ipywidgets\n",
    "\n",
    "Los widgets en Python son objetos que tienen una representación en el navegador. Por ejemplo, los widgets pueden tener forma de una caja de texto, un desplegable, una casilla de verificación, etc.\n",
    "Más info sobre ipywidgets [acá](https://ipywidgets.readthedocs.io/en/latest/examples/Widget%20Basics.html)"
   ]
  },
  {
   "cell_type": "code",
   "execution_count": 42,
   "metadata": {},
   "outputs": [],
   "source": [
    "import matplotlib.pyplot as plt\n",
    "import ipywidgets as widgets\n",
    "from IPython.display import display\n",
    "\n",
    "import datetime"
   ]
  },
  {
   "cell_type": "code",
   "execution_count": 43,
   "metadata": {},
   "outputs": [
    {
     "data": {
      "text/plain": [
       "['Renovable', 'Hidráulica', 'Térmica', 'Nuclear']"
      ]
     },
     "execution_count": 43,
     "metadata": {},
     "output_type": "execute_result"
    }
   ],
   "source": [
    "lista_fuentes = list(set(df_fuente['fuente_generacion']))\n",
    "lista_fuentes"
   ]
  },
  {
   "cell_type": "code",
   "execution_count": 14,
   "metadata": {},
   "outputs": [
    {
     "name": "stdout",
     "output_type": "stream",
     "text": [
      "Seleccionar Fuente:\n"
     ]
    },
    {
     "data": {
      "application/vnd.jupyter.widget-view+json": {
       "model_id": "7f2d6302495b4a948281086431558c6d",
       "version_major": 2,
       "version_minor": 0
      },
      "text/plain": [
       "Dropdown(description='Fuente:', options=('Nuclear', 'Renovable', 'Hidráulica', 'Térmica'), value='Nuclear')"
      ]
     },
     "metadata": {},
     "output_type": "display_data"
    }
   ],
   "source": [
    "# Seleccionar tipo de fuente\n",
    "print(\"Seleccionar Fuente:\")\n",
    "fuente = widgets.Dropdown(\n",
    "    options=['Nuclear','Renovable',  'Hidráulica', 'Térmica'],\n",
    "    value='Nuclear', # \"Nuclear\" es la opción seleccionada de forma predeterminada cuando se crea el widget\n",
    "    description='Fuente:',\n",
    "    disabled=False # widget activo. si disabled=True, el widget se vuelve inactivo y el usuario no puede interactuar con él.\n",
    ")\n",
    "display(fuente) # Muestra el widget"
   ]
  },
  {
   "cell_type": "code",
   "execution_count": 44,
   "metadata": {},
   "outputs": [
    {
     "data": {
      "text/plain": [
       "['15-10',\n",
       " '15-11',\n",
       " '15-12',\n",
       " '16-01',\n",
       " '16-02',\n",
       " '16-03',\n",
       " '16-04',\n",
       " '16-05',\n",
       " '16-06',\n",
       " '16-07',\n",
       " '16-08',\n",
       " '16-09',\n",
       " '16-10',\n",
       " '16-11',\n",
       " '16-12',\n",
       " '17-01',\n",
       " '17-02',\n",
       " '17-03',\n",
       " '17-04',\n",
       " '17-05',\n",
       " '17-06',\n",
       " '17-07',\n",
       " '17-08',\n",
       " '17-09',\n",
       " '17-10',\n",
       " '17-11',\n",
       " '17-12',\n",
       " '18-01',\n",
       " '18-02',\n",
       " '18-03',\n",
       " '18-04',\n",
       " '18-05',\n",
       " '18-06',\n",
       " '18-07',\n",
       " '18-08',\n",
       " '18-09',\n",
       " '19-01',\n",
       " '19-04']"
      ]
     },
     "execution_count": 44,
     "metadata": {},
     "output_type": "execute_result"
    }
   ],
   "source": [
    "fechas = list(set(df_fuente['periodo'].dt.strftime(\"%y-%m\"))) \n",
    "# set para eliminar duplicados\n",
    "# strftime() para formatear la fechas en un string según un formato deseado. \n",
    "# \"%y-%m\" formato tal que se muestren los últimos dos dígitos del año (%y) seguidos por el mes (%m).\n",
    "fechas.sort()\n",
    "fechas"
   ]
  },
  {
   "cell_type": "code",
   "execution_count": 45,
   "metadata": {},
   "outputs": [
    {
     "data": {
      "application/vnd.jupyter.widget-view+json": {
       "model_id": "c6b40d7c40fb4a09a63e4388d9f6046c",
       "version_major": 2,
       "version_minor": 0
      },
      "text/plain": [
       "SelectionRangeSlider(description='Fechas', index=(0, 37), options=('15-10', '15-11', '15-12', '16-01', '16-02'…"
      ]
     },
     "metadata": {},
     "output_type": "display_data"
    }
   ],
   "source": [
    "select_fecha = widgets.SelectionRangeSlider(\n",
    "    options=fechas,\n",
    "    index=(0, len(fechas)-1),\n",
    "    description='Fechas',\n",
    "    disabled=False\n",
    ")\n",
    "display(select_fecha)"
   ]
  },
  {
   "cell_type": "code",
   "execution_count": 46,
   "metadata": {},
   "outputs": [
    {
     "name": "stdout",
     "output_type": "stream",
     "text": [
      "El rango de fechas a usar es:  ('16-01', '17-12')\n",
      "La fuente a mostrar es:  Hidráulica\n"
     ]
    }
   ],
   "source": [
    "# Probamos si los valores quedaron actualizados\n",
    "# Para usar los valores definidos usamos .value\n",
    "\n",
    "print(\"El rango de fechas a usar es: \", select_fecha.value)\n",
    "print(\"La fuente a mostrar es: \", fuente.value)"
   ]
  },
  {
   "cell_type": "code",
   "execution_count": 47,
   "metadata": {},
   "outputs": [
    {
     "name": "stdout",
     "output_type": "stream",
     "text": [
      "Evolución de la potencia instalada de fuente: Hidráulica\n"
     ]
    },
    {
     "data": {
      "image/png": "[encoded data removed]",
      "text/plain": [
       "<Figure size 640x480 with 1 Axes>"
      ]
     },
     "metadata": {},
     "output_type": "display_data"
    }
   ],
   "source": [
    "# Creamos un dataframe con la selección de filas de la fuente elegida\n",
    "df_temp =  df_fuente[df_fuente['fuente_generacion'] == fuente.value]\n",
    "\n",
    "# Extraemos el objeto fecha del string creado a partir del widget\n",
    "fecha_min = datetime.datetime.strptime(select_fecha.value[0], \"%y-%m\") \n",
    "fecha_max = datetime.datetime.strptime(select_fecha.value[1], \"%y-%m\")\n",
    "# con el módulo datetime y su función strptime creamos un objeto datetime (que contiene info de date y time)\n",
    "\n",
    "# Filtramos según fechas elegidas\n",
    "df_temp = df_temp[(df_temp['periodo'] > fecha_min) & (df_temp['periodo'] < fecha_max)]\n",
    "\n",
    "print(\"Evolución de la potencia instalada de fuente: {}\".format(fuente.value))\n",
    "# Creamos el grafico\n",
    "plt.plot(df_temp['periodo'], df_temp['potencia_instalada_mw'], label=fuente.value) \n",
    "# Modificamos labels\n",
    "plt.xlabel('Periodo')\n",
    "plt.xticks(rotation=20)\n",
    "plt.ylabel('Potencia Instalada (MW)')\n",
    "\n",
    "# Agregamos leyenda\n",
    "plt.legend()\n",
    "plt.show()"
   ]
  },
  {
   "cell_type": "code",
   "execution_count": null,
   "metadata": {},
   "outputs": [],
   "source": []
  }
 ],
 "metadata": {
  "colab": {
   "name": "Tutorial4.ipynb",
   "provenance": []
  },
  "kernelspec": {
   "display_name": "Python 3 (ipykernel)",
   "language": "python",
   "name": "python3"
  },
  "language_info": {
   "codemirror_mode": {
    "name": "ipython",
    "version": 3
   },
   "file_extension": ".py",
   "mimetype": "text/x-python",
   "name": "python",
   "nbconvert_exporter": "python",
   "pygments_lexer": "ipython3",
   "version": "3.13.5"
  },
  "varInspector": {
   "cols": {
    "lenName": 16,
    "lenType": 16,
    "lenVar": 40
   },
   "kernels_config": {
    "python": {
     "delete_cmd_postfix": "",
     "delete_cmd_prefix": "del ",
     "library": "var_list.py",
     "varRefreshCmd": "print(var_dic_list())"
    },
    "r": {
     "delete_cmd_postfix": ") ",
     "delete_cmd_prefix": "rm(",
     "library": "var_list.r",
     "varRefreshCmd": "cat(var_dic_list()) "
    }
   },
   "types_to_exclude": [
    "module",
    "function",
    "builtin_function_or_method",
    "instance",
    "_Feature"
   ],
   "window_display": false
  },
  "widgets": {
   "application/vnd.jupyter.widget-state+json": {
    "4c6b2da7d7b041ce8d6a49dceba48670": {
     "model_module": "@jupyter-widgets/controls",
     "model_module_version": "1.5.0",
     "model_name": "DescriptionStyleModel",
     "state": {
      "_model_module": "@jupyter-widgets/controls",
      "_model_module_version": "1.5.0",
      "_model_name": "DescriptionStyleModel",
      "_view_count": null,
      "_view_module": "@jupyter-widgets/base",
      "_view_module_version": "1.2.0",
      "_view_name": "StyleView",
      "description_width": ""
     }
    },
    "5ece28cc8e5743c3a107c5fb1401947b": {
     "model_module": "@jupyter-widgets/controls",
     "model_module_version": "1.5.0",
     "model_name": "ToggleButtonModel",
     "state": {
      "_dom_classes": [],
      "_model_module": "@jupyter-widgets/controls",
      "_model_module_version": "1.5.0",
      "_model_name": "ToggleButtonModel",
      "_view_count": null,
      "_view_module": "@jupyter-widgets/controls",
      "_view_module_version": "1.5.0",
      "_view_name": "ToggleButtonView",
      "button_style": "",
      "description": "Show code",
      "description_tooltip": null,
      "disabled": false,
      "icon": "",
      "layout": "IPY_MODEL_d21ed9b6131846e7b852cc4c958148b3",
      "style": "IPY_MODEL_4c6b2da7d7b041ce8d6a49dceba48670",
      "tooltip": "",
      "value": false
     }
    },
    "d21ed9b6131846e7b852cc4c958148b3": {
     "model_module": "@jupyter-widgets/base",
     "model_module_version": "1.2.0",
     "model_name": "LayoutModel",
     "state": {
      "_model_module": "@jupyter-widgets/base",
      "_model_module_version": "1.2.0",
      "_model_name": "LayoutModel",
      "_view_count": null,
      "_view_module": "@jupyter-widgets/base",
      "_view_module_version": "1.2.0",
      "_view_name": "LayoutView",
      "align_content": null,
      "align_items": null,
      "align_self": null,
      "border": null,
      "bottom": null,
      "display": null,
      "flex": null,
      "flex_flow": null,
      "grid_area": null,
      "grid_auto_columns": null,
      "grid_auto_flow": null,
      "grid_auto_rows": null,
      "grid_column": null,
      "grid_gap": null,
      "grid_row": null,
      "grid_template_areas": null,
      "grid_template_columns": null,
      "grid_template_rows": null,
      "height": null,
      "justify_content": null,
      "justify_items": null,
      "left": null,
      "margin": null,
      "max_height": null,
      "max_width": null,
      "min_height": null,
      "min_width": null,
      "object_fit": null,
      "object_position": null,
      "order": null,
      "overflow": null,
      "overflow_x": null,
      "overflow_y": null,
      "padding": null,
      "right": null,
      "top": null,
      "visibility": null,
      "width": null
     }
    }
   }
  }
 },
 "nbformat": 4,
 "nbformat_minor": 4
}
